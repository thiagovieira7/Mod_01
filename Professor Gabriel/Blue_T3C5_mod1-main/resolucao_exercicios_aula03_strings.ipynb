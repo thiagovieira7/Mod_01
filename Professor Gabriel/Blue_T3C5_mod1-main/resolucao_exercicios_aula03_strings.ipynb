{
  "nbformat": 4,
  "nbformat_minor": 0,
  "metadata": {
    "colab": {
      "name": "resolucao_exercicios_aula03_strings.ipynb",
      "provenance": [],
      "collapsed_sections": [],
      "authorship_tag": "ABX9TyOavYRt5FLtGR5iWmiHykdl",
      "include_colab_link": true
    },
    "kernelspec": {
      "name": "python3",
      "display_name": "Python 3"
    },
    "language_info": {
      "name": "python"
    }
  },
  "cells": [
    {
      "cell_type": "markdown",
      "metadata": {
        "id": "view-in-github",
        "colab_type": "text"
      },
      "source": [
        "<a href=\"https://colab.research.google.com/github/gpereira-blueedtech/Blue_T3C5_mod1/blob/main/resolucao_exercicios_aula03_strings.ipynb\" target=\"_parent\"><img src=\"https://colab.research.google.com/assets/colab-badge.svg\" alt=\"Open In Colab\"/></a>"
      ]
    },
    {
      "cell_type": "markdown",
      "metadata": {
        "id": "Q8VllwQm_ix0"
      },
      "source": [
        "01 – Escreva um programa que deve receber o nome completo do usuário e retornar uma saudação com o nome no formato adequado (todas as primeiras letras em maiúsculas)."
      ]
    },
    {
      "cell_type": "code",
      "metadata": {
        "colab": {
          "base_uri": "https://localhost:8080/"
        },
        "id": "A4pQ5F6b_bH5",
        "outputId": "dac25126-4efd-4788-82ff-6168b73af631"
      },
      "source": [
        "nome = input(\"Olá, qual o seu nome? \").title() # Tratei o nome logo no input e armazenei com o novo formato.\n",
        "print(f\"Bem-vindo(a) {nome}!\")\n",
        "\n",
        "### ALTERNATIVA\n",
        "\n",
        "# nome = input(\"Olá, qual o seu nome? \") # Armazenei o nome do jeito que o usuário entrou, e tratei na hora de dar o print.\n",
        "# print(\"Bem-vindo(a)\", nome.title() + \"!\")"
      ],
      "execution_count": 7,
      "outputs": [
        {
          "output_type": "stream",
          "text": [
            "Olá, qual o seu nome? gbairle lima pereira\n",
            "Bem-Vindo(A) Gbairle Lima Pereira!\n"
          ],
          "name": "stdout"
        }
      ]
    },
    {
      "cell_type": "markdown",
      "metadata": {
        "id": "Gq_8c3NAC7oy"
      },
      "source": [
        "02 - Escreva um programa que solicite uma frase ao usuário e escreva a frase toda em maiúscula e sem espaços em branco.\n"
      ]
    },
    {
      "cell_type": "code",
      "metadata": {
        "colab": {
          "base_uri": "https://localhost:8080/"
        },
        "id": "VgEo2KtJDqdR",
        "outputId": "2849965f-e349-462e-c01f-924a563512ed"
      },
      "source": [
        "frase = input(\"Digite uma frase: \\n\")\n",
        "print(frase.upper().replace(\" \",\"\"))"
      ],
      "execution_count": 11,
      "outputs": [
        {
          "output_type": "stream",
          "text": [
            "Digite uma frase: \n",
            "essaé uma frase de teste\n",
            "ESSAÉxxUMAxxFRASExxDExxTESTE\n"
          ],
          "name": "stdout"
        }
      ]
    },
    {
      "cell_type": "markdown",
      "metadata": {
        "id": "KWa2REi0Fyba"
      },
      "source": [
        "03 – Faça um programa que solicite a altura e o peso do usuário, e calcule o seu IMC. Os dados entrados precisam ser corrigidos pelo programa (trocando “,” por “.” e eliminando espaços e letras extras)."
      ]
    },
    {
      "cell_type": "code",
      "metadata": {
        "colab": {
          "base_uri": "https://localhost:8080/"
        },
        "id": "arX0QEOvF0hy",
        "outputId": "6e500ac8-ecba-4810-9289-2ae77518dab8"
      },
      "source": [
        "altura = float(input(\"Qual a sua altura?\\nM: \").lower().replace(',' , '.').replace(\" \",\"\").replace(\"m\",\"\"))\n",
        "peso = float(input(\"Qual o seu peso?\\nKg: \").lower().replace(',' , '.').replace(\" \",\"\").replace(\"k\",\"\").replace(\"g\",\"\"))\n",
        "imc = peso / (altura**2)\n",
        "print(f\"O seu IMC é: {imc:.1f}\")"
      ],
      "execution_count": 23,
      "outputs": [
        {
          "output_type": "stream",
          "text": [
            "Qual a sua altura?\n",
            "M: 1,890 M\n",
            "Qual o seu peso?\n",
            "Kg: 54 KG\n",
            "O seu IMC é: 15.1\n"
          ],
          "name": "stdout"
        }
      ]
    }
  ]
}
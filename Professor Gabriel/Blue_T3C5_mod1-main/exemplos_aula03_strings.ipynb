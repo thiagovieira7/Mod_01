{
  "nbformat": 4,
  "nbformat_minor": 0,
  "metadata": {
    "colab": {
      "name": "exemplos_aula03_strings.ipynb",
      "provenance": [],
      "collapsed_sections": [],
      "authorship_tag": "ABX9TyO2YnDCIqIEAwf99svHKSmI",
      "include_colab_link": true
    },
    "kernelspec": {
      "name": "python3",
      "display_name": "Python 3"
    },
    "language_info": {
      "name": "python"
    }
  },
  "cells": [
    {
      "cell_type": "markdown",
      "metadata": {
        "id": "view-in-github",
        "colab_type": "text"
      },
      "source": [
        "<a href=\"https://colab.research.google.com/github/gpereira-blueedtech/Blue_T3C5_mod1/blob/main/exemplos_aula03_strings.ipynb\" target=\"_parent\"><img src=\"https://colab.research.google.com/assets/colab-badge.svg\" alt=\"Open In Colab\"/></a>"
      ]
    },
    {
      "cell_type": "code",
      "metadata": {
        "colab": {
          "base_uri": "https://localhost:8080/"
        },
        "id": "CvB0ux_y-w9w",
        "outputId": "020b7559-72c9-4cb6-ad43-218453c26a41"
      },
      "source": [
        "var1 = 250\n",
        "var1a = 100\n",
        "var2 = \"250\"\n",
        "var2a = \"100\"\n",
        "var3 = 'Batman \"que ri\" do quadrinho ' # Exemplo de uso de aspas dentro de umas string\n",
        "var4 = \"de um universo paralelo\"\n",
        "concatenacao = var3 + var4\n",
        "\n",
        "print(type(var1))\n",
        "print(type(var2))\n",
        "print()\n",
        "print(var2 + var2a)\n",
        "print(concatenacao)"
      ],
      "execution_count": null,
      "outputs": [
        {
          "output_type": "stream",
          "text": [
            "<class 'int'>\n",
            "<class 'str'>\n",
            "\n",
            "250100\n",
            "Batman \"que ri\" do quadrinho de um universo paralelo\n"
          ],
          "name": "stdout"
        }
      ]
    },
    {
      "cell_type": "code",
      "metadata": {
        "colab": {
          "base_uri": "https://localhost:8080/"
        },
        "id": "_otLYfLyA_1O",
        "outputId": "7713bd26-ce31-46a2-ec61-1ef6cd20ef9e"
      },
      "source": [
        "var0 = 250\n",
        "var0a = 100\n",
        "var1 = 'Batman \"que ri\" do quadrinho, ' # Exemplo de uso de aspas dentro de umas string\n",
        "var2 = \"de um universo paralelo\"\n",
        "frase = input(\"Digite qualquer coisa: \")\n",
        "\n",
        "### len() -> retorna o tamanho da string (número de caracteres)\n",
        "# print(len(var3))\n",
        "# print(frase)\n",
        "\n",
        "\n",
        "### string.capitalize() -> Transforma o primeiro CARACTERE de uma string em maiúscula, e o restante em minúscula.\n",
        "\n",
        "# print(frase.capitalize())\n",
        "# print(\"isso é uma string\".capitalize())\n",
        "\n",
        "# fraseCapitalize = input(\"digite algo minúsculo:\").capitalize()\n",
        "# print(fraseCapitalize)\n",
        "\n",
        "### string.count(\"caracter\") -> conta quantas vezes um caractere (ou sequência de caracteres) aparece em uma string\n",
        "# print(var1.count(\"a\"))\n",
        "# contadorLetra = var1.count(\"a\")\n",
        "# print(contadorLetra)\n",
        "# print(type(contadorLetra))\n",
        "\n",
        "### string.startswith(\"teste\") -> Verifica se a string começa com o que foi passado como argumento e retorna com True ou False\n",
        "# print(var1.startswith(\"Bat\"))\n",
        "\n",
        "### string.isalnum() -> Verifica se a string possui apenas valor alfanumérico (letra ou número)\n",
        "# print(var2.isalnum())\n",
        "# print(frase)\n",
        "\n",
        "### string.upper() e string.lower() -> Transforma todos os caracteres de uma string em maiúsculo ou minúsculo\n",
        "# print(frase.upper())\n",
        "# print(frase.lower())\n",
        "# print()\n",
        "# fraseUpper = frase.upper()\n",
        "# print(fraseUpper)\n",
        "# print()\n",
        "# fraseInputUpper = input(\"Digite SIM ou NÃO: \").upper()\n",
        "# print(fraseInputUpper)\n",
        "# print()\n",
        "# email = input(\"Digite seu email: \").lower()\n",
        "# print(email)\n",
        "\n",
        "### string.title() -> Retorna a string com todas os primeiros caracteres de cada palavra em maiúscula e o resto em minúscula: método preferido da T3C5\n",
        "# print(var1.title())\n",
        "# print(frase.title())\n",
        "# print(\"isso é um exemplo\".title())\n",
        "\n",
        "### string.split() -> transforma cada elemento da string (tomando os espaços como referência) em um elemenmto de uma lista\n",
        "# lista1 = var1.split()\n",
        "# print(lista1)\n",
        "# print(frase.split())\n",
        "\n",
        "### string.replace(\"S1\", \"S2\") -> substitui todos os caracteres passadops em S1 pelos passados em S2\n",
        "# print(var1.replace(\"man\",\"woman\"))\n",
        "# print(\"oi aluno\".replace(\"oi\",\"tchau\").replace(\"aluno\",\"aluna\"))\n",
        "print(var1.replace(\" \",\"\"))\n",
        "\n",
        "# moeda = input(\"Digite o valor em Reais: \").replace(\",\",\".\") # Pegando valor entrado, substituindo , por . e já transformando em float para poder fazer cálculos\n",
        "# # total = moeda + 10\n",
        "# print(moeda)\n",
        "# # print(total)\n",
        "\n",
        "### string.strip() -> remove os espaços do começo e do final da string\n",
        "# print(frase.strip())\n",
        "\n"
      ],
      "execution_count": 77,
      "outputs": [
        {
          "output_type": "stream",
          "text": [
            "Digite qualquer coisa: asd\n",
            "Batman\"queri\"doquadrinho,\n"
          ],
          "name": "stdout"
        }
      ]
    }
  ]
}